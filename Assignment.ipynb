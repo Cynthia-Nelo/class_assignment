{
 "cells": [
  {
   "cell_type": "markdown",
   "id": "35eb98e3-72e8-41e3-a8d9-d03cc49bdb32",
   "metadata": {},
   "source": [
    "# ASSIGNMENT\n",
    "\n",
    "### Each assignment will help to build us on areas we have learnt so far. \n",
    "### Try your best to do them devotedly learning all the concepts.\n",
    "\n",
    "\n",
    "    Each question carrys 10marks"
   ]
  },
  {
   "cell_type": "markdown",
   "id": "8373f9ed-db94-440b-b25b-1f2cf0d8ef76",
   "metadata": {},
   "source": [
    "1.  Create a list called tree_list, starting at 20, ranging to 140, in increments of 4 (i.e. 20, 24,...,140)."
   ]
  },
  {
   "cell_type": "code",
   "execution_count": 10,
   "id": "a528fbda-1253-4469-aa5a-1bf496ebd89d",
   "metadata": {},
   "outputs": [
    {
     "name": "stdout",
     "output_type": "stream",
     "text": [
      "[20, 24, 28, 32, 36, 40, 44, 48, 52, 56, 60, 64, 68, 72, 76, 80, 84, 88, 92, 96, 100, 104, 108, 112, 116, 120, 124, 128, 132, 136, 140]\n"
     ]
    }
   ],
   "source": [
    "tree_list = list(range(20, 141, 4))\n",
    "print(tree_list)"
   ]
  },
  {
   "cell_type": "code",
   "execution_count": 10,
   "id": "45161312-d55e-448a-8f61-8dda2eea9865",
   "metadata": {},
   "outputs": [
    {
     "data": {
      "text/plain": [
       "[20,\n",
       " 24,\n",
       " 28,\n",
       " 32,\n",
       " 36,\n",
       " 40,\n",
       " 44,\n",
       " 48,\n",
       " 52,\n",
       " 56,\n",
       " 60,\n",
       " 64,\n",
       " 68,\n",
       " 72,\n",
       " 76,\n",
       " 80,\n",
       " 84,\n",
       " 88,\n",
       " 92,\n",
       " 96,\n",
       " 100,\n",
       " 104,\n",
       " 108,\n",
       " 112,\n",
       " 116,\n",
       " 120,\n",
       " 124,\n",
       " 128,\n",
       " 132,\n",
       " 136,\n",
       " 140,\n",
       " 400]"
      ]
     },
     "execution_count": 10,
     "metadata": {},
     "output_type": "execute_result"
    }
   ],
   "source": [
    "tree_list = list(range(20, 141, 4))\n",
    "tree_list.append (400)\n",
    "tree_list\n"
   ]
  },
  {
   "cell_type": "markdown",
   "id": "23a29fab-3624-4b5c-9904-9a98d55f6b73",
   "metadata": {},
   "source": [
    "3. Create a dictionary called `tree` with the following key-value pairs: <br> \n",
    "- `tree_type – Pepper-bark tree` \n",
    "- `age – 15`\n",
    "- `family – Canellaceae`eae"
   ]
  },
  {
   "cell_type": "code",
   "execution_count": 14,
   "id": "34be2612-02ea-413a-b6d1-214d064f4053",
   "metadata": {},
   "outputs": [
    {
     "name": "stdout",
     "output_type": "stream",
     "text": [
      "{'tree_type': 'pepper_bark_tree', 'age': 15, 'family': 'canellaceae'}\n"
     ]
    }
   ],
   "source": [
    "tree =dict(tree_type ='pepper_bark_tree' , age = 15 , family = 'canellaceae')\n",
    "print(tree)\n",
    "\n"
   ]
  },
  {
   "cell_type": "markdown",
   "id": "c8146ce1-2875-4078-b84c-91820ed0743a",
   "metadata": {},
   "source": [
    "4. Use conditional statements to categorise each student based on their risk status. The program should define a variable, `student_number` (representing the number of student in the class), and use it to print the correct grade of student based on the following categories: \n",
    "- `\"Grade F student\"` for less than `50` individuals. \n",
    "- `\"Grade C student\"` for `50` to `64` individuals. \n",
    "- `\"Grade B student\"` for `65` to `79` individuals. \n",
    "- `\"Grade A student\"` for more than `80` individuals.\n",
    "\n",
    "Assume Akin had score of `77`. Assign this number to `student_number` and note what category they fall under."
   ]
  },
  {
   "cell_type": "code",
   "execution_count": 16,
   "id": "5e781ceb-fb2a-43f2-b289-647b1ca2a20d",
   "metadata": {},
   "outputs": [
    {
     "name": "stdout",
     "output_type": "stream",
     "text": [
      "grade b student\n"
     ]
    }
   ],
   "source": [
    "student_grade = 77 \n",
    "if  student_grade < 50:\n",
    "    print('grade f student')\n",
    "elif student_grade > 50 and student_grade <= 64:\n",
    "    print ('grade c student')\n",
    "elif student_grade > 65 and student_grade <= 79:\n",
    "    print ('grade b student')\n",
    "else:\n",
    "    print('grade a student')\n"
   ]
  },
  {
   "cell_type": "markdown",
   "id": "bda8d2a3-2383-4671-8e5a-d787e314c202",
   "metadata": {},
   "source": [
    "5. Write a program to evaluate the use of renewable energy sources in a household. The program should define a variable `solar` that stores whether or not a household uses solar (`True` or `False` values only). If a household does not use solar, print `\"Needs Improvement\"`. Otherwise, print `\"Eco-friendly\"`.\n",
    "\n",
    "Note: You must solve this exercise using `if not`."
   ]
  },
  {
   "cell_type": "code",
   "execution_count": 9,
   "id": "0546ed11-ee0d-4b5e-9baf-8e22d1de72bf",
   "metadata": {},
   "outputs": [
    {
     "name": "stdout",
     "output_type": "stream",
     "text": [
      "eco_friendly\n"
     ]
    }
   ],
   "source": [
    "solar = True\n",
    "if not solar :\n",
    "    print ('needs improvement')\n",
    "else:\n",
    "    print ('eco_friendly')\n",
    "\n",
    "        \n",
    "    "
   ]
  },
  {
   "cell_type": "markdown",
   "id": "73304a8d-3f47-4f3b-aa23-2d77137bf61f",
   "metadata": {},
   "source": [
    "6. Write a for loop to print each subject name\n",
    "\n",
    "   subjects = ['Mathematics', 'English', 'Chemistry', 'Physics', 'Biology', 'Economics', '', 'Koala']\n",
    "  \n",
    "   "
   ]
  },
  {
   "cell_type": "code",
   "execution_count": 29,
   "id": "971386b6-47a3-4346-92a6-383fc0a3c36f",
   "metadata": {},
   "outputs": [
    {
     "name": "stdout",
     "output_type": "stream",
     "text": [
      "Mathematics\n",
      "English\n",
      "Chemistry\n",
      "Physics\n",
      "Biology\n",
      "Economics\n",
      "\n",
      "Koala\n"
     ]
    }
   ],
   "source": [
    "subjects = ['Mathematics', 'English', 'Chemistry', 'Physics', 'Biology', 'Economics', '', 'Koala']\n",
    "for s in subjects:\n",
    "    print(s)\n"
   ]
  },
  {
   "cell_type": "markdown",
   "id": "0face2df-9d65-41b0-b441-3741b069c1d2",
   "metadata": {},
   "source": [
    "7. animals = [Tiger, Cheetah, Antelop, Lion, Wolves, Panda, Leopard, Fox, Bear]\n",
    "\n",
    "\n",
    "Create a loop that does nothing when 'Panda' is encountered, but prints other animals."
   ]
  },
  {
   "cell_type": "code",
   "execution_count": 28,
   "id": "a044dcbf-d2ab-4083-85f4-304e0d6cd13f",
   "metadata": {},
   "outputs": [
    {
     "name": "stdout",
     "output_type": "stream",
     "text": [
      "['tiger', 'cheetah', 'antelop', 'lion', 'wolves', 'panda', 'leopard', 'fox', 'bear']\n"
     ]
    }
   ],
   "source": [
    "animals = ['tiger', 'cheetah', 'antelop', 'lion', 'wolves', 'panda', 'leopard', 'fox', 'bear']\n",
    "if animals == 'panda':\n",
    "   pass\n",
    "else:\n",
    "    print(animals)\n",
    "\n"
   ]
  },
  {
   "cell_type": "markdown",
   "id": "e70de842-882f-48c2-ac85-662eeb0ed131",
   "metadata": {},
   "source": [
    "8. Use a for loop to count the number of species in the list\n",
    "\n",
    " endangered_marine_species = ['Hawksbill Turtle', 'Vaquita', 'Blue Whale', 'Staghorn Coral', 'Green Turtle']\n"
   ]
  },
  {
   "cell_type": "code",
   "execution_count": 1,
   "id": "89917784-8c65-4a28-afeb-cbfe3b552b86",
   "metadata": {},
   "outputs": [
    {
     "name": "stdout",
     "output_type": "stream",
     "text": [
      "Number of endangered marine species: 0\n",
      "Number of endangered marine species: 0\n",
      "Number of endangered marine species: 0\n",
      "Number of endangered marine species: 0\n",
      "Number of endangered marine species: 0\n"
     ]
    }
   ],
   "source": [
    "endangered_marine_species =['Hawksbill Turtle', 'Vaquita', 'Blue Whale', 'Staghorn Coral', 'Green Turtle']\n",
    "endangered_count = 0\n",
    "for species in endangered_marine_species:\n",
    "    number_of_endangered_marine_species = len(endangered_marine_species)\n",
    "    print(f\"Number of endangered marine species: {endangered_count}\")"
   ]
  },
  {
   "cell_type": "code",
   "execution_count": null,
   "id": "a500029c-1353-4d94-9d6a-d4fe95e039fd",
   "metadata": {},
   "outputs": [],
   "source": []
  },
  {
   "cell_type": "markdown",
   "id": "9f9412e9-d7eb-45be-9550-c102f79e69ce",
   "metadata": {},
   "source": [
    "9. Implement a `while` loop to simulate a conservation effort, stopping when a certain population target is reached."
   ]
  },
  {
   "cell_type": "code",
   "execution_count": 10,
   "id": "326c1155-2e48-472e-8a66-092cdabae7b0",
   "metadata": {},
   "outputs": [
    {
     "name": "stdout",
     "output_type": "stream",
     "text": [
      " years1: 160.5\n",
      "Years to reach target savings: 1\n",
      " years2: 171.735\n",
      "Years to reach target savings: 2\n",
      " years3: 183.75645000000003\n",
      "Years to reach target savings: 3\n",
      " years4: 196.61940150000004\n",
      "Years to reach target savings: 4\n",
      " years5: 210.38275960500005\n",
      "Years to reach target savings: 5\n",
      " years6: 225.10955277735007\n",
      "Years to reach target savings: 6\n",
      " years7: 240.8672214717646\n",
      "Years to reach target savings: 7\n",
      " years8: 257.72792697478815\n",
      "Years to reach target savings: 8\n",
      " years9: 275.76888186302335\n",
      "Years to reach target savings: 9\n",
      " years10: 295.072703593435\n",
      "Years to reach target savings: 10\n",
      " years11: 315.72779284497545\n",
      "Years to reach target savings: 11\n",
      " years12: 337.82873834412374\n",
      "Years to reach target savings: 12\n",
      " years13: 361.4767500282124\n",
      "Years to reach target savings: 13\n",
      " years14: 386.78012253018727\n",
      "Years to reach target savings: 14\n",
      " years15: 413.8547311073004\n",
      "Years to reach target savings: 15\n",
      " years16: 442.8245622848114\n",
      "Years to reach target savings: 16\n",
      " years17: 473.8222816447482\n",
      "Years to reach target savings: 17\n",
      " years18: 506.98984135988064\n",
      "Years to reach target savings: 18\n"
     ]
    }
   ],
   "source": [
    "current_savings = 150  # initial savings in dollars\n",
    "target_savings = 500\n",
    "years = 0\n",
    "growth_rate = 1.07  # 7% annual growth due to interest\n",
    "\n",
    "# Your task: Use a while loop to calculate how many years it takes to reach the target savings\n",
    "while current_savings <= target_savings:\n",
    "      current_savings *= 1.07 #yearly increamental rates\n",
    "      years += 1\n",
    "      print(f\" years{years}: {current_savings}\")\n",
    "      print(f\"Years to reach target savings: {years}\")\n"
   ]
  },
  {
   "cell_type": "markdown",
   "id": "76c25f8a-37a3-4193-9b6e-dde4c433ca55",
   "metadata": {},
   "source": [
    "10. Write a function named dollars_to_euros that accepts a parameter of the revenue in dollars and returns the corresponding revenue in euros by multiplying the dollars by a conversion rate of 0.85.\n",
    "\n",
    "Remember to include the docstrings for the function."
   ]
  },
  {
   "cell_type": "code",
   "execution_count": null,
   "id": "fe0f1fcd-6ca2-48d8-be23-dd4fdb312bf0",
   "metadata": {},
   "outputs": [],
   "source": [
    "def dollars_euro( revenue, conversion_rate ):\n",
    "    \"\"\"\n",
    "    converts revenue from dollar to euro using converation rate 0.85\n",
    "\n",
    "    parameters\n",
    "    ----------\n",
    "    revenue: accepts revenue parameter in dollar\n",
    "    convertion rate : uses  0.85 to convert dollar to euro\n",
    "\n",
    "    returns\n",
    "    --------\n",
    "    an integer that represents revenue in euro\"\"\"\n",
    "    \n",
    "    revenue_euro = (dollar_revenue * 0.85)\n",
    "    return revenue_euro\n"
   ]
  },
  {
   "cell_type": "code",
   "execution_count": null,
   "id": "03c5d3c0-07e0-4788-b93e-91d1f656d312",
   "metadata": {},
   "outputs": [],
   "source": []
  }
 ],
 "metadata": {
  "kernelspec": {
   "display_name": "Python 3 (ipykernel)",
   "language": "python",
   "name": "python3"
  },
  "language_info": {
   "codemirror_mode": {
    "name": "ipython",
    "version": 3
   },
   "file_extension": ".py",
   "mimetype": "text/x-python",
   "name": "python",
   "nbconvert_exporter": "python",
   "pygments_lexer": "ipython3",
   "version": "3.12.4"
  }
 },
 "nbformat": 4,
 "nbformat_minor": 5
}
