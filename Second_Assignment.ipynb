{
 "cells": [
  {
   "cell_type": "markdown",
   "id": "66e72431",
   "metadata": {},
   "source": [
    "# Python Functions and Classes Practice"
   ]
  },
  {
   "cell_type": "markdown",
   "id": "f731a6df",
   "metadata": {},
   "source": [
    "## 1. Simple Calculator"
   ]
  },
  {
   "cell_type": "markdown",
   "id": "61b7c718",
   "metadata": {},
   "source": [
    "**Task:** Create a function `simple_calculator` that takes two numbers and an operator (add, subtract, multiply, divide) and returns the result of the operation."
   ]
  },
  {
   "cell_type": "markdown",
   "id": "87b6dc97",
   "metadata": {},
   "source": [
    "**Hint:** Use conditional statements to check the operator and perform the corresponding arithmetic operation."
   ]
  },
  {
   "cell_type": "code",
   "execution_count": 3,
   "id": "db2056da",
   "metadata": {},
   "outputs": [],
   "source": [
    "#input your code here\n",
    "def  simple_calculator(num1, num2, operator):\n",
    "    \"\"\"calculates arithmetic operations on two numbers\n",
    "    parameter:\n",
    "    _______\n",
    "    num1: integer( the value for number 1)\n",
    "    num2: integer( the value for number 2)\n",
    "    operators: string ( the operations to perform: 'add', 'subtract', 'multiply', 'divide') \n",
    "\n",
    "    result\n",
    "    _______\n",
    "    returns result as an inter or float of a particular arithmatic operation\n",
    "    raise\n",
    "    ______\n",
    "    VALUE_ERROR : when the values of (num1 and num2) are not integers and operator is not a string\"\"\"\n",
    "\n",
    "    if operator == \"add\":\n",
    "        return (num1 + num2)\n",
    "    elif operator == \"subtract\":\n",
    "        return (num1 - num2)\n",
    "    elif operator == \"multiply\":\n",
    "        return (num1 * num2)\n",
    "    elif operator== \"divide\":\n",
    "        if num2 ==0: print('cannot be divided by zero')\n",
    "        return (num1 / num2)\n",
    "    else:\n",
    "        raise VALUE_ERROR(f\"invalid operator '{operator}' must be 'add', 'subtract' , 'multiply' or 'divide'.\")\n"
   ]
  },
  {
   "cell_type": "code",
   "execution_count": 3,
   "id": "8a1882bc",
   "metadata": {},
   "outputs": [
    {
     "name": "stdout",
     "output_type": "stream",
     "text": [
      "6\n"
     ]
    }
   ],
   "source": [
    "# Test the function\n",
    "print(simple_calculator(4, 2, 'add'))  # Output: 6"
   ]
  },
  {
   "cell_type": "markdown",
   "id": "1087b0c6",
   "metadata": {},
   "source": [
    "## 2. Temperature Converter"
   ]
  },
  {
   "cell_type": "markdown",
   "id": "5e541488",
   "metadata": {},
   "source": [
    "**Task:** Write a function `convert_temperature` that converts a temperature from Celsius to Fahrenheit and vice versa. The function should take the temperature and the unit to convert to."
   ]
  },
  {
   "cell_type": "markdown",
   "id": "b7fca71a",
   "metadata": {},
   "source": [
    "**Hint:** Use the formulas `F = C * 9/5 + 32` for Celsius to Fahrenheit and `C = (F - 32) * 5/9` for Fahrenheit to Celsius."
   ]
  },
  {
   "cell_type": "code",
   "execution_count": 1,
   "id": "774dbe86",
   "metadata": {},
   "outputs": [],
   "source": [
    "#input your code here\n",
    "def convert_temperature(temp, unit):\n",
    "    \"\"\"converts temperature from celsius to fahrenheit and vice versa\n",
    "    parameters\n",
    "    _________   \n",
    "    temperature: intg or float( the temperature  in either celcius or fahrenheit to be converted)\n",
    "    unit :       sting(the unit to be converted to( 'C' for celcius using this formular: C = (F - 32) * 5/9 )\n",
    "                  or ( 'F' for fahrenheit using this formular:F = C * 9/5 + 32))\n",
    "    result\n",
    "    _______\n",
    "    returns: intg or float as the  result of the convertion done.\n",
    "    raise\n",
    "    ______\n",
    "    raise VALUE ERROR when temperature is not either celsius or fahrenhrit\"\"\"\n",
    "    \n",
    "    if unit == 'C':\n",
    "        return (temp - 32) * 5/9    \n",
    "    elif unit == 'F':\n",
    "        return temp * 9/5 + 32       \n",
    "    else:\n",
    "        raise VALUE_ERROR (f\"invalid temperature '{temp}', temp must be either celisius, 'C' or fahrenheit, 'F'.\")"
   ]
  },
  {
   "cell_type": "code",
   "execution_count": 2,
   "id": "bd45fc79",
   "metadata": {},
   "outputs": [
    {
     "name": "stdout",
     "output_type": "stream",
     "text": [
      "212.0\n"
     ]
    }
   ],
   "source": [
    "# Test the function\n",
    "print(convert_temperature(100, 'F'))  # Output: 212.0\n"
   ]
  },
  {
   "cell_type": "markdown",
   "id": "1d36529d",
   "metadata": {},
   "source": [
    "## 3. Palindrome Checker"
   ]
  },
  {
   "cell_type": "markdown",
   "id": "fd8512e3",
   "metadata": {},
   "source": [
    "**Task:** Create a function `is_palindrome` that checks if a given string is a palindrome (reads the same backward as forward)."
   ]
  },
  {
   "cell_type": "markdown",
   "id": "5ff44a95",
   "metadata": {},
   "source": [
    "**Hint:** Compare the string to its reverse. You can reverse a string using slicing `s[::-1]`."
   ]
  },
  {
   "cell_type": "code",
   "execution_count": 27,
   "id": "b86c4d78",
   "metadata": {},
   "outputs": [],
   "source": [
    "#input your code here\n",
    "def is_palindrome(message):\n",
    "    \"\"\"checks if a string is a palindrome and reads same backword.\n",
    "    parameter\n",
    "    _________\n",
    "    message: a sting and must be the \n",
    "    result: returns sting (palindrome) and must read same backward or forward\"\"\"\n",
    "    normalized_message = message.replace(' ','').lower()\n",
    "    if normalized_message == message[::-1]:\n",
    "        return True\n",
    "    else:\n",
    "        return False"
   ]
  },
  {
   "cell_type": "code",
   "execution_count": 28,
   "id": "dde9525c",
   "metadata": {},
   "outputs": [
    {
     "name": "stdout",
     "output_type": "stream",
     "text": [
      "True\n"
     ]
    }
   ],
   "source": [
    "# Test the function\n",
    "print(is_palindrome('racecar'))  # Output: True\n",
    "\n",
    " "
   ]
  },
  {
   "cell_type": "markdown",
   "id": "7a46ee05",
   "metadata": {},
   "source": [
    "## 4. Bank Account Class"
   ]
  },
  {
   "cell_type": "markdown",
   "id": "204d380c",
   "metadata": {},
   "source": [
    "**Task:** Implement a class `BankAccount` with methods to deposit, withdraw, and check the balance."
   ]
  },
  {
   "cell_type": "markdown",
   "id": "a1216a0d",
   "metadata": {},
   "source": [
    "**Hint:** Use instance variables to store the balance and create methods to update and retrieve it."
   ]
  },
  {
   "cell_type": "code",
   "execution_count": null,
   "id": "3339aa39",
   "metadata": {},
   "outputs": [],
   "source": [
    "#input your code here"
   ]
  },
  {
   "cell_type": "code",
   "execution_count": null,
   "id": "46713224",
   "metadata": {},
   "outputs": [],
   "source": [
    "# Test the class\n",
    "account = BankAccount()\n",
    "account.deposit(100)\n",
    "account.withdraw(50)\n",
    "print(account.get_balace"
   ]
  },
  {
   "cell_type": "markdown",
   "id": "b1eaf75c",
   "metadata": {},
   "source": [
    "## 5. Grocery List Manager"
   ]
  },
  {
   "cell_type": "markdown",
   "id": "abd2b13d",
   "metadata": {},
   "source": [
    "**Task:** Write a class `GroceryList` with methods to add an item, remove an item, and display the list."
   ]
  },
  {
   "cell_type": "markdown",
   "id": "d1921d70",
   "metadata": {},
   "source": [
    "**Hint:** Use a list to store grocery items and methods to modify and display the list."
   ]
  },
  {
   "cell_type": "code",
   "execution_count": null,
   "id": "4bfe5f38",
   "metadata": {},
   "outputs": [],
   "source": [
    "#input your code here"
   ]
  },
  {
   "cell_type": "code",
   "execution_count": null,
   "id": "ebce6859",
   "metadata": {},
   "outputs": [],
   "source": [
    "# Test the class\n",
    "my_list = GroceryList()\n",
    "my_list.add_item('Apples')\n",
    "my_list.remove_item('Apples')\n",
    "my_list.display_list()  # Output: []\n"
   ]
  },
  {
   "cell_type": "markdown",
   "id": "b54d9d9d",
   "metadata": {},
   "source": [
    "## 6. Rectangle Area Calculator"
   ]
  },
  {
   "cell_type": "markdown",
   "id": "f4a91775",
   "metadata": {},
   "source": [
    "**Task:** Create a class `Rectangle` with methods to calculate the area and perimeter of a rectangle."
   ]
  },
  {
   "cell_type": "markdown",
   "id": "3267b77a",
   "metadata": {},
   "source": [
    "**Hint:** Use the formula `area = width * height` for area and `perimeter = 2 * (width + height)` for perimeter."
   ]
  },
  {
   "cell_type": "code",
   "execution_count": null,
   "id": "bbd97192",
   "metadata": {},
   "outputs": [],
   "source": [
    "#input your code here"
   ]
  },
  {
   "cell_type": "code",
   "execution_count": null,
   "id": "54bd8776",
   "metadata": {},
   "outputs": [],
   "source": [
    "# Test the class\n",
    "rect = Rectangle(5, 10)\n",
    "print(rect.area())  # Output: 50\n",
    "print(rect.perimeter())  # Output: 30\n"
   ]
  },
  {
   "cell_type": "markdown",
   "id": "90306ee2",
   "metadata": {},
   "source": [
    "## 7. Student Grades"
   ]
  },
  {
   "cell_type": "markdown",
   "id": "8c6f1325",
   "metadata": {},
   "source": [
    "**Task:** Implement a class `Student` with methods to add grades, calculate the average grade, and determine the highest grade."
   ]
  },
  {
   "cell_type": "markdown",
   "id": "fa56ca02",
   "metadata": {},
   "source": [
    "**Hint:** Use a list to store grades and methods to add grades and calculate the required values."
   ]
  },
  {
   "cell_type": "code",
   "execution_count": null,
   "id": "e32ca832",
   "metadata": {},
   "outputs": [],
   "source": [
    "#input your code here"
   ]
  },
  {
   "cell_type": "code",
   "execution_count": null,
   "id": "e1ec2b25",
   "metadata": {},
   "outputs": [],
   "source": [
    "# Test the class\n",
    "student = Student('John Doe')\n",
    "student.add_grade(90)\n",
    "student.add_grade(80)\n",
    "print(student.average_grade())  # Output: 85.0\n",
    "print(student.highest_grade())  # Output: 90\n"
   ]
  },
  {
   "cell_type": "markdown",
   "id": "5c1e57aa",
   "metadata": {},
   "source": [
    "## 8. Contact Book"
   ]
  },
  {
   "cell_type": "markdown",
   "id": "ef8bf039",
   "metadata": {},
   "source": [
    "**Task:** Write a class `ContactBook` that allows you to add, remove, and search for contacts by name."
   ]
  },
  {
   "cell_type": "markdown",
   "id": "80be836b",
   "metadata": {},
   "source": [
    "**Hint:** Use a dictionary to store contacts with names as keys and phone numbers as values."
   ]
  },
  {
   "cell_type": "code",
   "execution_count": 1,
   "id": "c89e697c",
   "metadata": {},
   "outputs": [],
   "source": [
    "#input your code here\n",
    "class ContactBook:\n",
    "    def __init__(self):\n",
    "        self.contactbook = {}\n",
    "\n",
    "# method to add contacts to contactbook dictionary\n",
    "    def add_contact (self, name, phone_no):\n",
    "        self.contactbook[name] = phone_no\n",
    "\n",
    "# method to remove contact name from contactbook dictionary\n",
    "    def remove_contact (self, name):\n",
    "        self.name = name\n",
    "        if self.name in self.contactbook:\n",
    "           del self.contactbook[name]\n",
    "\n",
    "# method to search for contacts name in contact dictionary\n",
    "    def search_contact(self, name): \n",
    "        if name in self.contactbook:\n",
    "            return self.contactbook [name]\n",
    "        else:\n",
    "            print ('contact not found')"
   ]
  },
  {
   "cell_type": "code",
   "execution_count": 2,
   "id": "8cc2ebc8",
   "metadata": {},
   "outputs": [
    {
     "name": "stdout",
     "output_type": "stream",
     "text": [
      "contact not found\n",
      "None\n"
     ]
    }
   ],
   "source": [
    "# Test the class\n",
    "book = ContactBook()\n",
    "book.add_contact('Alice', '123-456-7890')\n",
    "book.remove_contact('Alice')\n",
    "print(book.search_contact('Alice'))  # Output: Contact not found\n"
   ]
  },
  {
   "cell_type": "markdown",
   "id": "61f81c3f",
   "metadata": {},
   "source": [
    "## 9. Library Management System"
   ]
  },
  {
   "cell_type": "markdown",
   "id": "5520a2ba",
   "metadata": {},
   "source": [
    "**Task:** Implement a class `Library` with methods to add books, remove books, and display the list of books."
   ]
  },
  {
   "cell_type": "markdown",
   "id": "b030f3fd",
   "metadata": {},
   "source": [
    "**Hint:** Use a list to store book titles and methods to modify and display the list."
   ]
  },
  {
   "cell_type": "code",
   "execution_count": 3,
   "id": "1aa73ffe",
   "metadata": {},
   "outputs": [],
   "source": [
    "#input your code here\n",
    "class Library:\n",
    "    def __init__(self):\n",
    "        self.librarybooks = []\n",
    "\n",
    "# method to add books to the list\n",
    "    def add_book(self, name):\n",
    "        self.name = name\n",
    "        if name not in self.librarybooks:\n",
    "            self.librarybooks.append(name)\n",
    "\n",
    "# method to remove book from the list\n",
    "    def remove_book(self, name):\n",
    "        self.remove_book = name\n",
    "        if name in self.librarybooks:\n",
    "            self.librarybooks.remove(name)\n",
    "\n",
    "# method to display list of books \n",
    "    def display_books(self):\n",
    "        print (self.librarybooks)"
   ]
  },
  {
   "cell_type": "code",
   "execution_count": 4,
   "id": "6abc2d27",
   "metadata": {},
   "outputs": [
    {
     "name": "stdout",
     "output_type": "stream",
     "text": [
      "[]\n"
     ]
    }
   ],
   "source": [
    "# Test the class\n",
    "library = Library()\n",
    "library.add_book('1984')\n",
    "library.remove_book('1984')\n",
    "library.display_books()  # Output: []\n"
   ]
  },
  {
   "cell_type": "markdown",
   "id": "0a59ffaa",
   "metadata": {},
   "source": [
    "## 10. Employee Management"
   ]
  },
  {
   "cell_type": "markdown",
   "id": "2ecd68b6",
   "metadata": {},
   "source": [
    "**Task:** Create a class `Employee` with methods to set and get the employee's name, age, and salary. Also, implement a method to give a raise."
   ]
  },
  {
   "cell_type": "markdown",
   "id": "aba980f0",
   "metadata": {},
   "source": [
    "**Hint:** Use instance variables to store employee details and methods to update and retrieve them."
   ]
  },
  {
   "cell_type": "code",
   "execution_count": 1,
   "id": "dc4b9744",
   "metadata": {},
   "outputs": [],
   "source": [
    "#input your code here\n",
    "class Employee:\n",
    "    def __init__(self, name, age, salary):\n",
    "        self.name = (name)\n",
    "        self.age = int(age)\n",
    "        self.salary =int (salary)\n",
    "\n",
    "# methods to retrive employees name:\n",
    "    def get_name(self):\n",
    "        return self.name\n",
    "\n",
    "# method to retrive employees age:\n",
    "    def get_age(self):\n",
    "        return self.age\n",
    "\n",
    "# method to retrive employees salary:\n",
    "    def get_salary (self):\n",
    "        return self.salary\n",
    "\n",
    "# method to give raise:\n",
    "    def give_raise(self,amount):\n",
    "        self.salary += amount"
   ]
  },
  {
   "cell_type": "code",
   "execution_count": 2,
   "id": "1214f838",
   "metadata": {},
   "outputs": [
    {
     "name": "stdout",
     "output_type": "stream",
     "text": [
      "55000\n"
     ]
    }
   ],
   "source": [
    "# Test the class\n",
    "emp = Employee('Jane Doe', 30, 50000)\n",
    "emp.give_raise(5000)\n",
    "print(emp.get_salary())  # Output: 55000\n"
   ]
  },
  {
   "cell_type": "code",
   "execution_count": null,
   "id": "9831317a-fdb9-4309-a954-22eed250e41c",
   "metadata": {},
   "outputs": [],
   "source": []
  }
 ],
 "metadata": {
  "kernelspec": {
   "display_name": "Python 3 (ipykernel)",
   "language": "python",
   "name": "python3"
  },
  "language_info": {
   "codemirror_mode": {
    "name": "ipython",
    "version": 3
   },
   "file_extension": ".py",
   "mimetype": "text/x-python",
   "name": "python",
   "nbconvert_exporter": "python",
   "pygments_lexer": "ipython3",
   "version": "3.12.4"
  }
 },
 "nbformat": 4,
 "nbformat_minor": 5
}
